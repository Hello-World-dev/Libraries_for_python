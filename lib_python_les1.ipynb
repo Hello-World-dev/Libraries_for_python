{
 "cells": [
  {
   "cell_type": "code",
   "execution_count": 2,
   "metadata": {},
   "outputs": [],
   "source": [
    "import numpy as np"
   ]
  },
  {
   "cell_type": "code",
   "execution_count": null,
   "metadata": {},
   "outputs": [],
   "source": [
    "### Импортируйте библиотеку Numpy и дайте ей псевдоним np.\n",
    "### Создайте массив Numpy под названием a размером 5x2, то есть состоящий из 5 строк и 2 столбцов. \n",
    "### Первый столбец должен содержать числа 1, 2, 3, 3, 1, а второй - числа 6, 8, 11, 10, 7. \n",
    "### Будем считать, что каждый столбец - это признак, а строка - наблюдение. \n",
    "### Затем найдите среднее значение по каждому признаку, используя метод mean массива Numpy. \n",
    "### Результат запишите в массив mean_a, в нем должно быть 2 элемента."
   ]
  },
  {
   "cell_type": "code",
   "execution_count": 3,
   "metadata": {
    "scrolled": true
   },
   "outputs": [],
   "source": [
    "b = np.array([i for i in range(10)], dtype = float)"
   ]
  },
  {
   "cell_type": "code",
   "execution_count": 4,
   "metadata": {},
   "outputs": [
    {
     "name": "stdout",
     "output_type": "stream",
     "text": [
      "[0. 1. 2. 3. 4. 5. 6. 7. 8. 9.]\n"
     ]
    }
   ],
   "source": [
    "print(b)"
   ]
  },
  {
   "cell_type": "code",
   "execution_count": 5,
   "metadata": {},
   "outputs": [
    {
     "data": {
      "text/plain": [
       "numpy.ndarray"
      ]
     },
     "execution_count": 5,
     "metadata": {},
     "output_type": "execute_result"
    }
   ],
   "source": [
    "type(b)"
   ]
  },
  {
   "cell_type": "code",
   "execution_count": 6,
   "metadata": {},
   "outputs": [],
   "source": [
    "a = np.array([[1, 6],\n",
    "            [2, 8],\n",
    "            [3, 11],\n",
    "            [3, 10],\n",
    "            [1, 7]])"
   ]
  },
  {
   "cell_type": "code",
   "execution_count": 7,
   "metadata": {},
   "outputs": [
    {
     "data": {
      "text/plain": [
       "(5, 2)"
      ]
     },
     "execution_count": 7,
     "metadata": {},
     "output_type": "execute_result"
    }
   ],
   "source": [
    "a.shape"
   ]
  },
  {
   "cell_type": "code",
   "execution_count": 9,
   "metadata": {},
   "outputs": [],
   "source": [
    "mean_a = a.mean(0)"
   ]
  },
  {
   "cell_type": "code",
   "execution_count": 10,
   "metadata": {},
   "outputs": [
    {
     "name": "stdout",
     "output_type": "stream",
     "text": [
      "[2.  8.4]\n"
     ]
    }
   ],
   "source": [
    "print(mean_a)"
   ]
  },
  {
   "cell_type": "code",
   "execution_count": 11,
   "metadata": {},
   "outputs": [],
   "source": [
    "### Вычислите массив a_centered, отняв от значений массива “а” средние значения соответствующих признаков, \n",
    "### содержащиеся в массиве mean_a. Вычисление должно производиться в одно действие. \n",
    "### Получившийся массив должен иметь размер 5x2."
   ]
  },
  {
   "cell_type": "code",
   "execution_count": 12,
   "metadata": {},
   "outputs": [
    {
     "name": "stdout",
     "output_type": "stream",
     "text": [
      "[[2.  8.4]\n",
      " [2.  8.4]\n",
      " [2.  8.4]\n",
      " [2.  8.4]\n",
      " [2.  8.4]]\n"
     ]
    }
   ],
   "source": [
    "aa = np.array([[mean_a[0], mean_a[1]],\n",
    "              [mean_a[0], mean_a[1]],\n",
    "              [mean_a[0], mean_a[1]],\n",
    "              [mean_a[0], mean_a[1]],\n",
    "              [mean_a[0], mean_a[1]]])\n",
    "print(aa)"
   ]
  },
  {
   "cell_type": "code",
   "execution_count": 13,
   "metadata": {},
   "outputs": [
    {
     "name": "stdout",
     "output_type": "stream",
     "text": [
      "[[-1.  -2.4]\n",
      " [ 0.  -0.4]\n",
      " [ 1.   2.6]\n",
      " [ 1.   1.6]\n",
      " [-1.  -1.4]]\n"
     ]
    }
   ],
   "source": [
    "a_centered = a - aa\n",
    "print(a_centered)"
   ]
  },
  {
   "cell_type": "code",
   "execution_count": 14,
   "metadata": {},
   "outputs": [],
   "source": [
    "### Найдите скалярное произведение столбцов массива a_centered. В результате должна получиться величина a_centered_sp.\n",
    "### Затем поделите a_centered_sp на N-1, где N - число наблюдений."
   ]
  },
  {
   "cell_type": "code",
   "execution_count": 15,
   "metadata": {},
   "outputs": [
    {
     "name": "stdout",
     "output_type": "stream",
     "text": [
      "8.0\n"
     ]
    }
   ],
   "source": [
    "a_centered_sp = a_centered[0:5, 0] @ a_centered[0:5, 1]\n",
    "print(a_centered_sp)"
   ]
  },
  {
   "cell_type": "code",
   "execution_count": 16,
   "metadata": {},
   "outputs": [
    {
     "name": "stdout",
     "output_type": "stream",
     "text": [
      "2.0\n"
     ]
    }
   ],
   "source": [
    "observation = a.shape[0]\n",
    "res = observation - 1\n",
    "res = a_centered_sp / res\n",
    "print(res)"
   ]
  },
  {
   "cell_type": "code",
   "execution_count": 17,
   "metadata": {},
   "outputs": [],
   "source": [
    "### В этом задании проверьте получившееся число, вычислив ковариацию еще одним способом - с помощью функции np.cov.\n",
    "### В качестве аргумента m функция np.cov должна принимать транспонированный массив “a”. \n",
    "### В получившейся ковариационной матрице (массив Numpy размером 2x2) искомое значение ковариации будет равно\n",
    "### элементу в строке с индексом 0 и столбце с индексом 1."
   ]
  },
  {
   "cell_type": "code",
   "execution_count": 18,
   "metadata": {},
   "outputs": [
    {
     "name": "stdout",
     "output_type": "stream",
     "text": [
      "[[ 1  2  3  3  1]\n",
      " [ 6  8 11 10  7]]\n"
     ]
    }
   ],
   "source": [
    "At = a.T\n",
    "print(At)"
   ]
  },
  {
   "cell_type": "code",
   "execution_count": 19,
   "metadata": {},
   "outputs": [
    {
     "name": "stdout",
     "output_type": "stream",
     "text": [
      "[[1.  2. ]\n",
      " [2.  4.3]]\n"
     ]
    }
   ],
   "source": [
    "Res = np.cov(At)\n",
    "print(Res)"
   ]
  },
  {
   "cell_type": "code",
   "execution_count": 20,
   "metadata": {},
   "outputs": [],
   "source": [
    "?np.cov"
   ]
  },
  {
   "cell_type": "code",
   "execution_count": null,
   "metadata": {},
   "outputs": [],
   "source": [
    "### Тема “Работа с данными в Pandas”\n",
    "### Задание 1\n",
    "### Импортируйте библиотеку Pandas и дайте ей псевдоним pd. Создайте датафрейм authors со столбцами\n",
    "### author_id и author_name, в которых соответственно содержатся данные: [1, 2, 3] и ['Тургенев', 'Чехов', 'Островский'].\n",
    "### Затем создайте датафрейм book cо столбцами author_id, book_title и price, в которых соответственно содержатся данные:  \n",
    "### [1, 1, 1, 2, 2, 3, 3],\n",
    "### ['Отцы и дети', 'Рудин', 'Дворянское гнездо', 'Толстый и тонкий', 'Дама с собачкой', 'Гроза', 'Таланты и поклонники'],\n",
    "### [450, 300, 350, 500, 450, 370, 290]."
   ]
  },
  {
   "cell_type": "code",
   "execution_count": 21,
   "metadata": {},
   "outputs": [],
   "source": [
    "import pandas as pd"
   ]
  },
  {
   "cell_type": "code",
   "execution_count": 22,
   "metadata": {},
   "outputs": [],
   "source": [
    "authors = pd.DataFrame({'author_id':[1, 2, 3],\n",
    "                  'author_name':['Тургенев', 'Чехов', 'Островский']},\n",
    "                  columns=['author_id', 'author_name'])"
   ]
  },
  {
   "cell_type": "code",
   "execution_count": 23,
   "metadata": {},
   "outputs": [
    {
     "name": "stdout",
     "output_type": "stream",
     "text": [
      "   author_id author_name\n",
      "0          1    Тургенев\n",
      "1          2       Чехов\n",
      "2          3  Островский\n"
     ]
    }
   ],
   "source": [
    "print (authors)"
   ]
  },
  {
   "cell_type": "code",
   "execution_count": 24,
   "metadata": {},
   "outputs": [],
   "source": [
    "books = pd.DataFrame({'author_id':[1, 1, 1, 2, 2, 3, 3],\n",
    "                    'book_title':['Отцы и дети', 'Рудин', 'Дворянское гнездо', 'Толстый и тонкий', 'Дама с собачкой', 'Гроза', 'Таланты и поклонники'],\n",
    "                    'price':[450, 300, 350, 500, 450, 370, 290]},\n",
    "                    columns=['author_id', 'book_title', 'price'])"
   ]
  },
  {
   "cell_type": "code",
   "execution_count": 25,
   "metadata": {},
   "outputs": [
    {
     "name": "stdout",
     "output_type": "stream",
     "text": [
      "   author_id            book_title  price\n",
      "0          1           Отцы и дети    450\n",
      "1          1                 Рудин    300\n",
      "2          1     Дворянское гнездо    350\n",
      "3          2      Толстый и тонкий    500\n",
      "4          2       Дама с собачкой    450\n",
      "5          3                 Гроза    370\n",
      "6          3  Таланты и поклонники    290\n"
     ]
    }
   ],
   "source": [
    "print(books)"
   ]
  },
  {
   "cell_type": "code",
   "execution_count": 26,
   "metadata": {},
   "outputs": [
    {
     "name": "stdout",
     "output_type": "stream",
     "text": [
      "<class 'pandas.core.frame.DataFrame'>\n",
      "RangeIndex: 7 entries, 0 to 6\n",
      "Data columns (total 3 columns):\n",
      " #   Column      Non-Null Count  Dtype \n",
      "---  ------      --------------  ----- \n",
      " 0   author_id   7 non-null      int64 \n",
      " 1   book_title  7 non-null      object\n",
      " 2   price       7 non-null      int64 \n",
      "dtypes: int64(2), object(1)\n",
      "memory usage: 296.0+ bytes\n",
      "None\n"
     ]
    }
   ],
   "source": [
    "print(books.info())"
   ]
  },
  {
   "cell_type": "code",
   "execution_count": 27,
   "metadata": {},
   "outputs": [],
   "source": [
    "### Получите датафрейм authors_price, соединив датафреймы authors и books по полю author_id."
   ]
  },
  {
   "cell_type": "code",
   "execution_count": 28,
   "metadata": {},
   "outputs": [],
   "source": [
    "authors_price = pd.merge(authors, books, on = 'author_id', how = 'inner')"
   ]
  },
  {
   "cell_type": "code",
   "execution_count": 29,
   "metadata": {},
   "outputs": [
    {
     "name": "stdout",
     "output_type": "stream",
     "text": [
      "   author_id author_name            book_title  price\n",
      "0          1    Тургенев           Отцы и дети    450\n",
      "1          1    Тургенев                 Рудин    300\n",
      "2          1    Тургенев     Дворянское гнездо    350\n",
      "3          2       Чехов      Толстый и тонкий    500\n",
      "4          2       Чехов       Дама с собачкой    450\n",
      "5          3  Островский                 Гроза    370\n",
      "6          3  Островский  Таланты и поклонники    290\n"
     ]
    }
   ],
   "source": [
    "print(authors_price)"
   ]
  },
  {
   "cell_type": "code",
   "execution_count": 30,
   "metadata": {},
   "outputs": [],
   "source": [
    "### Создайте датафрейм top5, в котором содержатся строки из authors_price с пятью самыми дорогими книгами"
   ]
  },
  {
   "cell_type": "code",
   "execution_count": 31,
   "metadata": {},
   "outputs": [
    {
     "name": "stdout",
     "output_type": "stream",
     "text": [
      "   author_id author_name         book_title  price\n",
      "3          2       Чехов   Толстый и тонкий    500\n",
      "0          1    Тургенев        Отцы и дети    450\n",
      "4          2       Чехов    Дама с собачкой    450\n",
      "5          3  Островский              Гроза    370\n",
      "2          1    Тургенев  Дворянское гнездо    350\n"
     ]
    }
   ],
   "source": [
    "top5 = authors_price.copy()\n",
    "top5 = top5.sort_values('price', ascending=False)\n",
    "top5 = top5.head(5)\n",
    "print(top5)"
   ]
  },
  {
   "cell_type": "code",
   "execution_count": 32,
   "metadata": {},
   "outputs": [],
   "source": [
    "### top5 = top5.loc[top5['price'] > 349]\n",
    "### print(top5)"
   ]
  },
  {
   "cell_type": "code",
   "execution_count": 33,
   "metadata": {},
   "outputs": [
    {
     "name": "stdout",
     "output_type": "stream",
     "text": [
      "   author_id author_name         book_title  price\n",
      "0          1    Тургенев        Отцы и дети    450\n",
      "1          1    Тургенев              Рудин    300\n",
      "2          1    Тургенев  Дворянское гнездо    350\n",
      "300\n",
      "450\n",
      "366.6666666666667\n"
     ]
    }
   ],
   "source": [
    "### Создайте датафрейм authors_stat на основе информации из authors_price. В датафрейме authors_stat должны быть четыре столбца:\n",
    "### author_name, min_price, max_price и mean_price,\n",
    "### в которых должны содержаться соответственно имя автора, минимальная, максимальная и средняя цена на книги этого автора.\n",
    "au1 = authors_price.copy()\n",
    "au1 = au1.query('author_name == \"Тургенев\"')\n",
    "print(au1)\n",
    "print(au1['price'].min())\n",
    "print(au1['price'].max())\n",
    "print(au1['price'].mean())"
   ]
  },
  {
   "cell_type": "code",
   "execution_count": 37,
   "metadata": {},
   "outputs": [
    {
     "name": "stdout",
     "output_type": "stream",
     "text": [
      "366.6666666666667\n"
     ]
    }
   ],
   "source": [
    "min_price = au1['price'].min()\n",
    "max_price = au1['price'].max()\n",
    "mean_price = au1['price'].mean()\n",
    "print(mean_ptice)"
   ]
  },
  {
   "cell_type": "code",
   "execution_count": 38,
   "metadata": {},
   "outputs": [
    {
     "name": "stdout",
     "output_type": "stream",
     "text": [
      "   author_id author_name  min_price  max_price  mean_price\n",
      "0          1    Тургенев          0          0           0\n",
      "1          2       Чехов          0          0           0\n",
      "2          3  Островский          0          0           0\n"
     ]
    }
   ],
   "source": [
    "authors_stat = authors.copy()\n",
    "authors_stat['min_price'] = 0\n",
    "authors_stat['max_price'] = 0\n",
    "authors_stat['mean_price'] = 0\n",
    "print(authors_stat)"
   ]
  },
  {
   "cell_type": "code",
   "execution_count": 39,
   "metadata": {},
   "outputs": [
    {
     "name": "stdout",
     "output_type": "stream",
     "text": [
      "   author_id author_name  min_price  max_price  mean_price\n",
      "0          1    Тургенев        300        450  366.666667\n",
      "1          2       Чехов          0          0    0.000000\n",
      "2          3  Островский          0          0    0.000000\n"
     ]
    }
   ],
   "source": [
    "authors_stat.loc[(authors_stat['author_name']=='Тургенев'), 'min_price'] = min_price\n",
    "authors_stat.loc[(authors_stat['author_name']=='Тургенев'), 'max_price'] = max_price\n",
    "authors_stat.loc[(authors_stat['author_name']=='Тургенев'), 'mean_price'] = mean_price\n",
    "print(authors_stat)"
   ]
  },
  {
   "cell_type": "code",
   "execution_count": 40,
   "metadata": {},
   "outputs": [
    {
     "name": "stdout",
     "output_type": "stream",
     "text": [
      "   author_id author_name        book_title  price\n",
      "3          2       Чехов  Толстый и тонкий    500\n",
      "4          2       Чехов   Дама с собачкой    450\n",
      "   author_id author_name  min_price  max_price  mean_price\n",
      "0          1    Тургенев        300        450  366.666667\n",
      "1          2       Чехов        450        500  475.000000\n",
      "2          3  Островский          0          0    0.000000\n"
     ]
    }
   ],
   "source": [
    "au1 = authors_price.copy()\n",
    "au1 = au1.query('author_name == \"Чехов\"')\n",
    "### print(au1)\n",
    "min_price = au1['price'].min()\n",
    "max_price = au1['price'].max()\n",
    "mean_price = au1['price'].mean()\n",
    "authors_stat.loc[(authors_stat['author_name']=='Чехов'), 'min_price'] = min_price\n",
    "authors_stat.loc[(authors_stat['author_name']=='Чехов'), 'max_price'] = max_price\n",
    "authors_stat.loc[(authors_stat['author_name']=='Чехов'), 'mean_price'] = mean_price\n",
    "print(authors_stat)"
   ]
  },
  {
   "cell_type": "code",
   "execution_count": 41,
   "metadata": {},
   "outputs": [
    {
     "name": "stdout",
     "output_type": "stream",
     "text": [
      "   author_id author_name  min_price  max_price  mean_price\n",
      "0          1    Тургенев        300        450  366.666667\n",
      "1          2       Чехов        450        500  475.000000\n",
      "2          3  Островский        290        370  330.000000\n"
     ]
    }
   ],
   "source": [
    "au1 = authors_price.copy()\n",
    "au1 = au1.query('author_name == \"Островский\"')\n",
    "### print(au1)\n",
    "min_price = au1['price'].min()\n",
    "max_price = au1['price'].max()\n",
    "mean_price = au1['price'].mean()\n",
    "authors_stat.loc[(authors_stat['author_name']=='Островский'), 'min_price'] = min_price\n",
    "authors_stat.loc[(authors_stat['author_name']=='Островский'), 'max_price'] = max_price\n",
    "authors_stat.loc[(authors_stat['author_name']=='Островский'), 'mean_price'] = mean_price\n",
    "print(authors_stat)"
   ]
  },
  {
   "cell_type": "code",
   "execution_count": null,
   "metadata": {},
   "outputs": [],
   "source": [
    "### Создайте новый столбец в датафрейме authors_price под названием cover, в нем будут располагаться данные о том,\n",
    "### какая обложка у данной книги - твердая или мягкая. В этот столбец поместите данные из следующего списка:\n",
    "### ['твердая', 'мягкая', 'мягкая', 'твердая', 'твердая', 'мягкая', 'мягкая']."
   ]
  },
  {
   "cell_type": "code",
   "execution_count": 43,
   "metadata": {},
   "outputs": [
    {
     "name": "stdout",
     "output_type": "stream",
     "text": [
      "   author_id author_name            book_title  price    cover\n",
      "0          1    Тургенев           Отцы и дети    450  твердая\n",
      "1          1    Тургенев                 Рудин    300   мягкая\n",
      "2          1    Тургенев     Дворянское гнездо    350   мягкая\n",
      "3          2       Чехов      Толстый и тонкий    500  твердая\n",
      "4          2       Чехов       Дама с собачкой    450  твердая\n",
      "5          3  Островский                 Гроза    370   мягкая\n",
      "6          3  Островский  Таланты и поклонники    290   мягкая\n"
     ]
    }
   ],
   "source": [
    "authors_price['cover'] = ['твердая', 'мягкая', 'мягкая', 'твердая', 'твердая', 'мягкая', 'мягкая']\n",
    "print(authors_price)"
   ]
  },
  {
   "cell_type": "code",
   "execution_count": null,
   "metadata": {},
   "outputs": [],
   "source": [
    "### Просмотрите документацию по функции pd.pivot_table с помощью вопросительного знака.\n",
    "### Для каждого автора посчитайте суммарную стоимость книг в твердой и мягкой обложке. \n",
    "### Используйте для этого функцию pd.pivot_table. При этом столбцы должны называться \"твердая\" и \"мягкая\",\n",
    "### а индексами должны быть фамилии авторов. Пропущенные значения стоимостей заполните нулями, \n",
    "### при необходимости загрузите библиотеку Numpy."
   ]
  },
  {
   "cell_type": "code",
   "execution_count": 44,
   "metadata": {},
   "outputs": [],
   "source": [
    "? pd.pivot_table"
   ]
  },
  {
   "cell_type": "code",
   "execution_count": 47,
   "metadata": {},
   "outputs": [
    {
     "name": "stdout",
     "output_type": "stream",
     "text": [
      "author_name  Островский  Тургенев  Чехов\n",
      "cover                                   \n",
      "мягкая            660.0     650.0    NaN\n",
      "твердая             NaN     450.0  950.0\n"
     ]
    }
   ],
   "source": [
    "table = pd.pivot_table(authors_price, values='price', index=['cover'], columns=['author_name'], aggfunc=np.sum)\n",
    "print(table)"
   ]
  }
 ],
 "metadata": {
  "kernelspec": {
   "display_name": "Python 3",
   "language": "python",
   "name": "python3"
  },
  "language_info": {
   "codemirror_mode": {
    "name": "ipython",
    "version": 3
   },
   "file_extension": ".py",
   "mimetype": "text/x-python",
   "name": "python",
   "nbconvert_exporter": "python",
   "pygments_lexer": "ipython3",
   "version": "3.8.5"
  }
 },
 "nbformat": 4,
 "nbformat_minor": 4
}
